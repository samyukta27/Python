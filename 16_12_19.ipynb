{
  "nbformat": 4,
  "nbformat_minor": 0,
  "metadata": {
    "colab": {
      "name": "16-12-19.ipynb",
      "provenance": [],
      "collapsed_sections": []
    },
    "kernelspec": {
      "name": "python3",
      "display_name": "Python 3"
    }
  },
  "cells": [
    {
      "cell_type": "markdown",
      "metadata": {
        "id": "r9mi0BHGt7TO",
        "colab_type": "text"
      },
      "source": [
        "Functional Programming\n",
        "- Simple\n",
        "- Easy to understand\n",
        "- Better reuseability\n",
        "- Lengthy program will be divided into sub groups\n"
      ]
    },
    {
      "cell_type": "markdown",
      "metadata": {
        "id": "7WVIyZ3o1i1a",
        "colab_type": "text"
      },
      "source": [
        "# Syntax:\n",
        "def name of the function(<parameters>):\n",
        "  statements\n",
        "  return"
      ]
    },
    {
      "cell_type": "code",
      "metadata": {
        "id": "E0EzeR71u0UF",
        "colab_type": "code",
        "outputId": "73a0e02a-9ad9-4b66-afbb-583221066f20",
        "colab": {
          "base_uri": "https://localhost:8080/",
          "height": 34
        }
      },
      "source": [
        "#input:1234\n",
        "#output:6(2+4)\n",
        "def evendigit(n):\n",
        "  s=0\n",
        "  while n!=0:\n",
        "    r=n%10\n",
        "    if r %2==0:\n",
        "     s=s+r\n",
        "    n=n//10\n",
        "  return s\n",
        "evendigit(1234)     "
      ],
      "execution_count": 0,
      "outputs": [
        {
          "output_type": "execute_result",
          "data": {
            "text/plain": [
              "6"
            ]
          },
          "metadata": {
            "tags": []
          },
          "execution_count": 4
        }
      ]
    },
    {
      "cell_type": "code",
      "metadata": {
        "id": "kALbf4auxdtP",
        "colab_type": "code",
        "outputId": "be4b3d65-d7fe-4d7f-aced-eba8a3771e05",
        "colab": {
          "base_uri": "https://localhost:8080/",
          "height": 34
        }
      },
      "source": [
        "# print largest number from given number\n",
        "# input:19528\n",
        "# output:9\n",
        "def largest(n):\n",
        "  temp=0\n",
        "  while n!=0:\n",
        "    r=n%10\n",
        "    if r>temp:\n",
        "      temp=r\n",
        "    n=n//10\n",
        "  return temp\n",
        "largest(19528)      "
      ],
      "execution_count": 0,
      "outputs": [
        {
          "output_type": "execute_result",
          "data": {
            "text/plain": [
              "9"
            ]
          },
          "metadata": {
            "tags": []
          },
          "execution_count": 5
        }
      ]
    },
    {
      "cell_type": "code",
      "metadata": {
        "id": "kdx-bdJp1Er_",
        "colab_type": "code",
        "outputId": "f2d9e308-4fef-455d-b9a3-f50c9ffab440",
        "colab": {
          "base_uri": "https://localhost:8080/",
          "height": 34
        }
      },
      "source": [
        "# Reverse of given number\n",
        "# input:123\n",
        "# output:321\n",
        "def reverse(n):\n",
        "  rev=0\n",
        "  while n!=0:\n",
        "   r=n%10\n",
        "   rev=rev*10+r\n",
        "   n=n//10\n",
        "  return rev\n",
        "reverse(123)"
      ],
      "execution_count": 0,
      "outputs": [
        {
          "output_type": "execute_result",
          "data": {
            "text/plain": [
              "321"
            ]
          },
          "metadata": {
            "tags": []
          },
          "execution_count": 7
        }
      ]
    },
    {
      "cell_type": "markdown",
      "metadata": {
        "id": "JhSaymxT4c3n",
        "colab_type": "text"
      },
      "source": [
        "### for loop\n",
        "##### syntax\n",
        "for in range(start,stop,step):\n",
        "> statements"
      ]
    },
    {
      "cell_type": "code",
      "metadata": {
        "id": "2LiJiOHx5Lc9",
        "colab_type": "code",
        "outputId": "1e99d796-a76f-4bd3-cfad-300ed30cf28c",
        "colab": {
          "base_uri": "https://localhost:8080/",
          "height": 34
        }
      },
      "source": [
        "# print the numbers between two limits\n",
        "# input:11 25\n",
        "# output:11 12 13 .....25\n",
        "def printseries(lb,ul):\n",
        "  for i in range(lb,ul+1):\n",
        "    print(i,end=' ')\n",
        "  return\n",
        "printseries(11,25)"
      ],
      "execution_count": 0,
      "outputs": [
        {
          "output_type": "stream",
          "text": [
            "11 12 13 14 15 16 17 18 19 20 21 22 23 24 25 "
          ],
          "name": "stdout"
        }
      ]
    }
  ]
}